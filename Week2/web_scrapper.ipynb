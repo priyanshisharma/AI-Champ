{
 "cells": [
  {
   "cell_type": "code",
   "execution_count": 18,
   "metadata": {},
   "outputs": [],
   "source": [
    "import requests\n",
    "import pandas as pd\n",
    "from bs4 import BeautifulSoup"
   ]
  },
  {
   "cell_type": "code",
   "execution_count": 19,
   "metadata": {},
   "outputs": [],
   "source": [
    "def get_book_item(url):\n",
    "    res = requests.get(url)\n",
    "    soup = BeautifulSoup(res.text)\n",
    "    article = soup.find_all('article',attrs={\"class\":\"product_pod\"})\n",
    "    book_item_list = []\n",
    "    for book in article:\n",
    "        \n",
    "        title = ((book.find('h3')).find('a')).get('title')\n",
    "        price = book.find('p', attrs={\"class\":\"price_color\"}).text\n",
    "        \n",
    "        #Availability\n",
    "        is_ava = book.find('p', attrs={\"class\":\"instock availability\"}).text.strip()\n",
    "        \n",
    "        book_item = { \n",
    "            \"Title\":title,\n",
    "            \"Price\":price,\n",
    "            \"Availability\":is_ava\n",
    "        }\n",
    "        \n",
    "        book_item_list.append(book_item)\n",
    "        \n",
    "    return book_item_list"
   ]
  },
  {
   "cell_type": "code",
   "execution_count": 20,
   "metadata": {},
   "outputs": [],
   "source": [
    "url = \"http://books.toscrape.com/catalogue/page-{}.html\""
   ]
  },
  {
   "cell_type": "code",
   "execution_count": 21,
   "metadata": {},
   "outputs": [],
   "source": [
    "res = []\n",
    "for i in range(1,50,1):\n",
    "    res.extend(get_book_item(url.format(i)))"
   ]
  },
  {
   "cell_type": "code",
   "execution_count": 22,
   "metadata": {},
   "outputs": [],
   "source": [
    "df = pd.DataFrame(res)\n",
    "df.to_csv('BookDetails.csv')"
   ]
  }
 ],
 "metadata": {
  "kernelspec": {
   "display_name": "Python 3",
   "language": "python",
   "name": "python3"
  },
  "language_info": {
   "codemirror_mode": {
    "name": "ipython",
    "version": 3
   },
   "file_extension": ".py",
   "mimetype": "text/x-python",
   "name": "python",
   "nbconvert_exporter": "python",
   "pygments_lexer": "ipython3",
   "version": "3.6.8"
  }
 },
 "nbformat": 4,
 "nbformat_minor": 4
}
